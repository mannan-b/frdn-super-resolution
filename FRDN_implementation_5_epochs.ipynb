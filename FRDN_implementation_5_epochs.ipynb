{
  "cells": [
    {
      "cell_type": "code",
      "execution_count": 1,
      "metadata": {
        "id": "fbq0xF9g4cwb"
      },
      "outputs": [],
      "source": [
        "from torch.utils.data import Dataset\n",
        "from torchvision import transforms\n",
        "from PIL import Image\n",
        "import os\n",
        "\n",
        "class PairedSRDataset(Dataset):\n",
        "    def __init__(self, lr_folder, hr_folder, scale=4, lr_size=(80, 80), hr_size=(320, 320)):\n",
        "        self.lr_folder = lr_folder\n",
        "        self.hr_folder = hr_folder\n",
        "        self.filenames = sorted(os.listdir(lr_folder))\n",
        "        self.scale = scale\n",
        "        self.lr_size = lr_size\n",
        "        self.hr_size = hr_size\n",
        "\n",
        "        self.lr_transform = transforms.Compose([\n",
        "            transforms.Resize(self.lr_size),\n",
        "            transforms.ToTensor()\n",
        "        ])\n",
        "        self.hr_transform = transforms.Compose([\n",
        "            transforms.Resize(self.hr_size),\n",
        "            transforms.ToTensor()\n",
        "        ])\n",
        "\n",
        "    def __len__(self):\n",
        "        return len(self.filenames)\n",
        "\n",
        "    def __getitem__(self, idx):\n",
        "        filename = self.filenames[idx]\n",
        "        lr_path = os.path.join(self.lr_folder, filename)\n",
        "        hr_path = os.path.join(self.hr_folder, filename)\n",
        "\n",
        "        lr = Image.open(lr_path).convert('RGB')\n",
        "        hr = Image.open(hr_path).convert('RGB')\n",
        "\n",
        "        lr_tensor = self.lr_transform(lr)\n",
        "        hr_tensor = self.hr_transform(hr)\n",
        "\n",
        "        return lr_tensor, hr_tensor"
      ]
    },
    {
      "cell_type": "code",
      "execution_count": 2,
      "metadata": {
        "id": "rCqptwwV4dv9"
      },
      "outputs": [],
      "source": [
        "from torch.utils.data import DataLoader, random_split\n",
        "\n",
        "full_train_dataset = PairedSRDataset(\n",
        "    lr_folder='../dataset/train/LR/',\n",
        "    hr_folder='../dataset/train/HR/',\n",
        "    scale=4\n",
        ")\n",
        "\n",
        "train_len = int(0.9 * len(full_train_dataset))\n",
        "val_len = len(full_train_dataset) - train_len\n",
        "train_set, val_set = random_split(full_train_dataset, [train_len, val_len])\n",
        "\n",
        "train_loader = DataLoader(train_set, batch_size=4, shuffle=True)\n",
        "val_loader = DataLoader(val_set, batch_size=4, shuffle=False)\n"
      ]
    },
    {
      "cell_type": "code",
      "execution_count": 3,
      "metadata": {
        "id": "nGm3CGdN9O0W"
      },
      "outputs": [],
      "source": [
        "test_dataset = PairedSRDataset(\n",
        "    lr_folder='../dataset/test/LR/',\n",
        "    hr_folder='../dataset/test/HR/',\n",
        "    scale=4\n",
        ")\n",
        "test_loader = DataLoader(test_dataset, batch_size=1)"
      ]
    },
    {
      "cell_type": "code",
      "execution_count": 4,
      "metadata": {
        "colab": {
          "base_uri": "https://localhost:8080/"
        },
        "id": "0-ktb9uz_zCV",
        "outputId": "35503805-e224-4747-9a9a-2f64e678c10b"
      },
      "outputs": [
        {
          "name": "stdout",
          "output_type": "stream",
          "text": [
            "Epoch 1: Train Loss = 0.0389\n",
            "Epoch 2: Train Loss = 0.0355\n",
            "Epoch 3: Train Loss = 0.0353\n",
            "Epoch 4: Train Loss = 0.0352\n",
            "Epoch 5: Train Loss = 0.0351\n"
          ]
        }
      ],
      "source": [
        "from frdn_arch import FRDN\n",
        "import torch.nn as nn\n",
        "import torch.optim as optim\n",
        "import torch\n",
        "\n",
        "device = 'cuda' if torch.cuda.is_available() else 'cpu'\n",
        "model = FRDN(in_channels=3, out_channels=3, num_features=64,\n",
        "             num_blocks=6, num_layers=4, upscale_factor=4, T=4).to(device)\n",
        "\n",
        "criterion = nn.L1Loss()\n",
        "optimizer = optim.Adam(model.parameters(), lr=1e-4)\n",
        "\n",
        "num_epochs = 5\n",
        "for epoch in range(num_epochs):\n",
        "    model.train()\n",
        "    total_loss = 0.0\n",
        "\n",
        "    for lr, hr in train_loader:\n",
        "        lr, hr = lr.to(device), hr.to(device)\n",
        "        outputs = model(lr)\n",
        "        if isinstance(outputs, list):\n",
        "            loss = criterion(outputs[-1], hr)\n",
        "        else:\n",
        "            loss = criterion(outputs, hr)\n",
        "\n",
        "        optimizer.zero_grad()\n",
        "        loss.backward()\n",
        "        optimizer.step()\n",
        "\n",
        "        total_loss += loss.item()\n",
        "\n",
        "    avg_loss = total_loss / len(train_loader)\n",
        "    print(f\"Epoch {epoch + 1}: Train Loss = {avg_loss:.4f}\")\n"
      ]
    },
    {
      "cell_type": "code",
      "execution_count": 6,
      "metadata": {
        "colab": {
          "base_uri": "https://localhost:8080/"
        },
        "id": "HFdcDAkpAcXP",
        "outputId": "dedc794d-7b47-480d-f323-34d5fdf861cd"
      },
      "outputs": [
        {
          "name": "stdout",
          "output_type": "stream",
          "text": [
            "Test PSNR: 27.15\n",
            "Test SSIM: 0.7082\n"
          ]
        }
      ],
      "source": [
        "from skimage.metrics import peak_signal_noise_ratio as psnr\n",
        "from skimage.metrics import structural_similarity as ssim\n",
        "import numpy as np\n",
        "import torch\n",
        "\n",
        "model.eval()\n",
        "psnr_total, ssim_total = 0, 0\n",
        "\n",
        "with torch.no_grad():\n",
        "    for lr, hr in test_loader:\n",
        "        lr, hr = lr.to(device), hr.to(device)\n",
        "        sr = model(lr)[-1]\n",
        "\n",
        "        sr_np = sr.squeeze(0).cpu().numpy().transpose(1, 2, 0)\n",
        "        hr_np = hr.squeeze(0).cpu().numpy().transpose(1, 2, 0)\n",
        "\n",
        "        sr_np = np.clip(sr_np, 0, 1)\n",
        "        psnr_total += psnr(hr_np, sr_np, data_range=1.0)\n",
        "        ssim_total += ssim(hr_np, sr_np, multichannel=True, data_range=1.0, channel_axis=2)\n",
        "\n",
        "print(f\"Test PSNR: {psnr_total / len(test_loader):.2f}\")\n",
        "print(f\"Test SSIM: {ssim_total / len(test_loader):.4f}\")"
      ]
    },
    {
      "cell_type": "code",
      "execution_count": null,
      "metadata": {
        "id": "8kwnS2wUXuop"
      },
      "outputs": [],
      "source": []
    }
  ],
  "metadata": {
    "colab": {
      "provenance": []
    },
    "kernelspec": {
      "display_name": "Python 3",
      "name": "python3"
    },
    "language_info": {
      "name": "python"
    }
  },
  "nbformat": 4,
  "nbformat_minor": 0
}
